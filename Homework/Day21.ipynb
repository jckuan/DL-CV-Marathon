{
 "cells": [
  {
   "cell_type": "markdown",
   "metadata": {},
   "source": [
    "# Day 21\n",
    "# Transfer Learning\n",
    "\n",
    "- Goal:\n",
    "    1. Fine-tune the pre-trained Xception model."
   ]
  },
  {
   "cell_type": "code",
   "execution_count": 1,
   "metadata": {},
   "outputs": [
    {
     "name": "stdout",
     "output_type": "stream",
     "text": [
      "Layers:  136\n"
     ]
    }
   ],
   "source": [
    "from tensorflow import keras\n",
    "from tensorflow.keras.models import Model, Sequential\n",
    "from tensorflow.keras.layers import Input, Dense, Flatten, Dropout, Conv2D, MaxPooling2D, GlobalAveragePooling2D\n",
    "from tensorflow.keras.preprocessing import image\n",
    "from tensorflow.keras import backend as K\n",
    "from tensorflow.keras.datasets import cifar10\n",
    "from sklearn.preprocessing import OneHotEncoder\n",
    "import numpy as np\n",
    "\n",
    "input_tensor = Input(shape=(32, 32, 3))\n",
    "model = keras.applications.Xception(include_top=False, weights='imagenet', input_tensor=input_tensor)\n",
    "\n",
    "x = model.output\n",
    "x = GlobalAveragePooling2D()(x)\n",
    "x = Dense(128, activation='relu')(x)\n",
    "x = Dropout(.1)(x)\n",
    "predictions = Dense(10, activation='softmax')(x)\n",
    "\n",
    "model = Model(inputs=model.input, outputs=predictions)\n",
    "print(\"Layers: \", len(model.layers))"
   ]
  },
  {
   "cell_type": "code",
   "execution_count": 2,
   "metadata": {},
   "outputs": [],
   "source": [
    "for layer in model.layers[:100]:\n",
    "    layer.trainable = False\n",
    "for layer in model.layers[100:]:\n",
    "    layer.trainable = True"
   ]
  },
  {
   "cell_type": "code",
   "execution_count": 3,
   "metadata": {},
   "outputs": [
    {
     "name": "stdout",
     "output_type": "stream",
     "text": [
      "Train on 50000 samples\n",
      "Epoch 1/10\n",
      "50000/50000 [==============================] - 671s 13ms/sample - loss: 1.6032 - accuracy: 0.4105\n",
      "Epoch 2/10\n",
      "50000/50000 [==============================] - 1535s 31ms/sample - loss: 1.0995 - accuracy: 0.6250\n",
      "Epoch 3/10\n",
      "50000/50000 [==============================] - 650s 13ms/sample - loss: 0.9573 - accuracy: 0.6746\n",
      "Epoch 4/10\n",
      "50000/50000 [==============================] - 654s 13ms/sample - loss: 0.8679 - accuracy: 0.7019\n",
      "Epoch 5/10\n",
      "50000/50000 [==============================] - 654s 13ms/sample - loss: 0.7817 - accuracy: 0.7332\n",
      "Epoch 6/10\n",
      "50000/50000 [==============================] - 651s 13ms/sample - loss: 0.7059 - accuracy: 0.7579\n",
      "Epoch 7/10\n",
      "50000/50000 [==============================] - 653s 13ms/sample - loss: 0.6351 - accuracy: 0.7826\n",
      "Epoch 8/10\n",
      "50000/50000 [==============================] - 648s 13ms/sample - loss: 0.5751 - accuracy: 0.8041\n",
      "Epoch 9/10\n",
      "50000/50000 [==============================] - 643s 13ms/sample - loss: 0.5156 - accuracy: 0.8242\n",
      "Epoch 10/10\n",
      "50000/50000 [==============================] - 643s 13ms/sample - loss: 0.4713 - accuracy: 0.8375\n",
      "10000/10000 [==============================] - 53s 5ms/sample - loss: 3.6387 - accuracy: 0.3868\n",
      "Test loss    : 3.6386592985153197\n",
      "Test accuracy: 0.38679999113082886\n"
     ]
    }
   ],
   "source": [
    "def normalize(x_train, x_test):\n",
    "    mean = np.mean(x_train, axis=(0, 1, 2, 3))\n",
    "    std = np.std(x_train, axis=(0, 1, 2, 3))\n",
    "    x_train = (x_train - mean)/(std + 1e-7)\n",
    "    x_test = (x_test - mean)/(std + 1e-7)\n",
    "    return x_train, x_test\n",
    "\n",
    "(x_train, y_train), (x_test, y_test) = cifar10.load_data()\n",
    "x_train, x_test = normalize(x_train, x_test)\n",
    "one_hot = OneHotEncoder(categories='auto')\n",
    "y_train = one_hot.fit_transform(y_train).toarray()\n",
    "y_test = one_hot.transform(y_test).toarray()\n",
    "\n",
    "model.compile(optimizer='adam', loss='categorical_crossentropy', metrics = ['accuracy'])\n",
    "model.fit(x_train, y_train, batch_size=32, epochs=10)\n",
    "\n",
    "score = model.evaluate(x_test, y_test, batch_size=32)\n",
    "print(f'Test loss    : {score[0]}\\nTest accuracy: {score[1]}')"
   ]
  }
 ],
 "metadata": {
  "kernelspec": {
   "display_name": "Python 3",
   "language": "python",
   "name": "python3"
  },
  "language_info": {
   "codemirror_mode": {
    "name": "ipython",
    "version": 3
   },
   "file_extension": ".py",
   "mimetype": "text/x-python",
   "name": "python",
   "nbconvert_exporter": "python",
   "pygments_lexer": "ipython3",
   "version": "3.7.4"
  }
 },
 "nbformat": 4,
 "nbformat_minor": 4
}
